{
 "cells": [
  {
   "cell_type": "markdown",
   "id": "f6674954",
   "metadata": {},
   "source": [
    "# Ayudantía 10\n",
    "\n",
    "Francisco Carrasco Varela - ffcarrasco@uc.cl\n",
    "\n",
    ">Soluciones a los problemas numéricos de la Ayudantía 10 del 17/06/2022 para el curso AST0111 (OFG) de la Pontificia Universidad Católica de Chile"
   ]
  },
  {
   "cell_type": "code",
   "execution_count": 1,
   "id": "023f4904",
   "metadata": {},
   "outputs": [
    {
     "data": {
      "application/javascript": [
       "MathJax.Hub.Config({\n",
       "    TeX: { equationNumbers: { autoNumber: \"AMS\" } }\n",
       "});\n"
      ],
      "text/plain": [
       "<IPython.core.display.Javascript object>"
      ]
     },
     "metadata": {},
     "output_type": "display_data"
    }
   ],
   "source": [
    "%%javascript\n",
    "MathJax.Hub.Config({\n",
    "    TeX: { equationNumbers: { autoNumber: \"AMS\" } }\n",
    "});"
   ]
  },
  {
   "cell_type": "markdown",
   "id": "32d6927a",
   "metadata": {},
   "source": [
    "## Problema 2 - Teorema del Virial\n",
    "\n",
    "### a)\n",
    "¿Qué es el Teorema del Virial y qué relaciona?\n",
    "\n",
    "\n",
    "**Solución**:\n",
    "\n",
    "\n",
    "El teorema del virial relaciona la energía cinética (velocidad) de un sistema con su energía potencial (distancias).\n",
    "Supongamos que tenemos un sistema en equilibrio. ¿A qué me refiero con equilibrio?\n",
    "Un sistema está en equilibrio si un sistema no está ni perdiendo ni ganando masa, si la mayoría de su energía NO está siendo convertida a calor (o perdida por la entropía) y si el sistema se mantiene estable en períodos largos de tiempo (decenas de miles de años o más en escala astronómica). Si un sistema cumple todas estas condiciones entonces podemos aplicar el Teorema del Virial a este sistema y, por lo tanto, podemos decir que el teorema está 'virializado'.\n",
    "\n",
    "En general, recordando el colegio, la energía potencial la podemos escribir como:\n",
    "\n",
    "\\begin{equation}\n",
    "K = \\frac{1}{2}m v^2\n",
    "\\end{equation}\n",
    "\n",
    "donde $K$ es la energía potencial, $v$ la velocidad (generalmente promedio) del sistema y $m$ es la masa menor del sistema, es decir, las pequeñas cosas que componen el sistema. Por ejemplo, para una galaxia es la masa de las estrellas que la componen (ya que una galaxia está compuesta de cosas más pequeñas, las cuales son las estrellas); para un cúmulo de galaxias la masa pequeña sería la masa de las galaxias que componen el cúmulo de galaxias y así... \n",
    "\n",
    "Por otro lado, la energía potencial la podemos escribir como:\n",
    "\n",
    "\\begin{equation}\n",
    "U = -G \\frac{M m}{R}\n",
    "\\end{equation}\n",
    "\n",
    "donde en este caso $M$ es la masa del objeto mayor del sistema, $m$ la masa pequeña del sistema (como en la energía cinética) y G la constante de gravitación universal de Newton.\n",
    "\n",
    "\n",
    "Es así como, lo más importante (lejos) que nos dice el Teorema del Virial es lo siguiente:\n",
    "\n",
    "\\begin{equation}\n",
    "2K + U = 0\n",
    "\\end{equation}\n",
    "\n",
    "O, en español, si sumamos 2 veces la energía cinética con la energía potencial el resultado nos dará 0.\n",
    "\n",
    "Si reemplazamos en la ecuación (3) por los valores de $K$ y $U$ dados en (1) y (2), respectivamente, esto nos dará:\n",
    "\n",
    "\\begin{equation}\n",
    "m v^2 - G \\frac{Mm}{R} = 0\n",
    "\\end{equation}\n",
    "\n",
    "De esta manera podemos aproximar $M$ (la masa 'virializada') de la ecuación anterior y esto nos dará una estimación para $M$ (la masa grande del sistema) la cual será:\n",
    "\n",
    "\\begin{equation}\n",
    "M \\sim \\frac{Rv^2}{G} \n",
    "\\end{equation}\n",
    "\n",
    "Y es aquí lo *importante del Teorema del Virial*:\n",
    "\n",
    "<span style=\"color:red\">\n",
    "Con el teorema del Virial podemos relacionar dos CARACTERÍSTICAS OBSERVABLES de una galaxia, como la velocidad radial (efecto Doppler) y el radio efectivo del sistema (tamaño del objeto), con una característica NO OBSERVABLE (pero fundamental) de un sistema: la masa.\n",
    "    </span>\n",
    "    \n",
    "Aunque también se puede usar la masa de los objetos que componen el sistema para estimar una velocidad promedio de los objetos que componen el sistema, como veremos en un ejercicio más adelante.\n",
    "\n",
    "PD:\n",
    "\n",
    "En la realidad lo que más se utiliza es el Teorema del Virial aplicado a los promedios o a los valores medios, es decir:\n",
    "\n",
    "\\begin{equation}\n",
    "2 \\langle K \\rangle + \\langle U \\rangle = 0\n",
    "\\end{equation}\n",
    "\n",
    "donde los brackets $\\langle \\rangle$ indican 'valor promedio' o 'valor medio'. De esta manera, por ejemplo, para cúmulos de galaxias, uno puede encontrar que la masa total -ecuación (5)- de un cúmulo cuyas galaxias tienen una velocidad promedio $\\langle v \\rangle$ y a una distancia promedio $R$ del centro de masa de $M$ puede ser escrita como:\n",
    "\n",
    "\\begin{equation}\n",
    "M \\sim \\frac{R \\langle v \\rangle^2}{G} \n",
    "\\end{equation}"
   ]
  },
  {
   "cell_type": "markdown",
   "id": "ce07f688",
   "metadata": {},
   "source": [
    "### b)\n",
    "Si podemos aplicar el Teorema Virial a un sistema, decimos que este sistema está 'virializado'. Para cada uno de los siguientes sistemas, diga por qué o por qué no el Teorema del Virial puede ser aplicado al siguiente sistema:\n",
    "\n",
    "- Nuestro Sistema Solar\n",
    "- Un cúmulo globular de un millón de estrellas\n",
    "- La Vía Láctea\n",
    "- El Universo Observable\n",
    "- Un muñeco orbitando alrededor de un agujero negro\n",
    "- Un muñeco cayendo a un agujero negro\n",
    "\n",
    "**Solución**:\n",
    "- Nuestro Sistema Solar: sí se encuentra virializado. A pesar de que es verdad que mucha masa del Sol se pierde en energía como calor (además de que llegan objetos de fuera del Sistema Solar, como el famoso Oumuamua), en general todo se mantiene 'estable' en largos períodos de tiempo. Si bien el Sol pierde masa, todavía está en una fase que la pierde muy de a poquitito, y libera energía muy de a poquito. De manera que a largo plazo es estable y, por tanto, puede ser virializado.\n",
    "- Un cúmulo globular de un millón de estrellas: sí puede estar virializado siempre y cuando las estrellas que estén en él no se escapen/se estén escapando del cúmulo.\n",
    "- El universo observable: probablemente no esté virializado ya que éste se encuentra en expansión y está constantemente ganando energía y materia. PERO probablemente el universo total (más allá del universo observable) esté quizás virializado ya que si bien éste se está expandiendo, no está ganando ni masa ni energía; lo que hace que a largas escalas se mantenga en equilibrio y por lo tanto sea virializable.\n",
    "- Un muñeco orbitando alrededor de un agujero negro: sí está virializado ya que sólo está orbitando.\n",
    "- Un muñeco cayendo a un agujero negro: no está virializado ya que al caer al agujero negro es un sistema que está constantemente cambiando y la energía potencial se transformará en energía cinética (y otras formas de energía)"
   ]
  },
  {
   "cell_type": "markdown",
   "id": "aabf9e4f",
   "metadata": {},
   "source": [
    "### c)\n",
    "Supongamos un sistema muy simple y aproximado donde tenemos una dispersión promedio para las estrellas que la componen de $\\langle v \\rangle = 100 \\ \\text{km}/\\text{s}$, y cuyo radio efectivo (tamaño de la galaxia) es de $R_\\text{e} = 200 \\ \\text{kpc}$. Utilizando el teorema del virial, ¿cuál es la masa 'virializada' del sistema?\n",
    "\n",
    "**Solución**:\n",
    "\n",
    "Para solucionar el problema simplificado podemos simplemente usar la ecuación (7) de la pregunta a), la cual era:\n",
    "\n",
    "$$\n",
    "M \\sim \\frac{R \\langle v \\rangle ^2}{G} \n",
    "$$\n",
    "\n",
    "Reemplazando por los datos tendremos que la respuesta será entonces:"
   ]
  },
  {
   "cell_type": "code",
   "execution_count": 2,
   "id": "f2f49de7",
   "metadata": {},
   "outputs": [
    {
     "name": "stdout",
     "output_type": "stream",
     "text": [
      "Para una galaxia de radio efectivo 200.0 kpc y con velocidad promedio 100.0 km / s \n",
      "se tiene que se tiene una masa (virializada) aproximada de 4.65e+11 solMass\n"
     ]
    }
   ],
   "source": [
    "from astropy import units as u\n",
    "from astropy.constants import G\n",
    "import numpy as np\n",
    "\n",
    "def approx_mass_Virial_Theorem(radius: u.quantity.Quantity, \n",
    "                               velocity: u.quantity.Quantity) -> u.quantity.Quantity:\n",
    "    \"\"\"\n",
    "    Returns the approximated mass of a system applying Virial Theorem\n",
    "    \"\"\"\n",
    "    return radius.to(u.m)*((velocity.to(u.m/u.s))**2)/G\n",
    "\n",
    "# Parameters\n",
    "radius = 200 * u.kiloparsec\n",
    "velocity = 100 * u.km/u.s\n",
    "\n",
    "virialized_mass = approx_mass_Virial_Theorem(radius, velocity)\n",
    "# Results\n",
    "print(f'Para una galaxia de radio efectivo {radius} y con velocidad promedio {velocity} ')\n",
    "print(f'se tiene que se tiene una masa (virializada) aproximada de {virialized_mass.to(u.solMass):.2e}')"
   ]
  },
  {
   "cell_type": "markdown",
   "id": "221290dd",
   "metadata": {},
   "source": [
    "### d)\n",
    "\n",
    "Existe un cúmulo de galaxias llamado Abel 2715 el cual tiene, aparentemente, unas $\\sim 200$ galaxias; cada una con la masa de la Vía Láctea. La distancia promedio de cada galaxia hacia el centro del cúmulo es $1 \\ \\text{Mpc}$. Si asumimos que el sistema está 'virializado', ¿cuál es la velocidad promedio de las galaxias en este cúmulo?\n",
    "Puede asumir que la masa de la Vía Láctea es $M_\\text{MW} = 10^{12} \\ \\text{M}_\\odot$.\n",
    "\n",
    "**Solución complicada**: (saltarse un poquito más abajo para ver la solución simple, sin tener que pensar tanto)\n",
    "\n",
    "En vez de utilizar directamente la fórmula (7) de la pregunta a), podemos realizar el proceso paso por paso y ver qué obtenemos; y luego realizar el camino corto usando la ecuación (7) y ver qué obtenemos.\n",
    "\n",
    "Nos dicen que tenemos 200 galaxias como la Vía Láctea, cada una de ellas con una masa de $10^{12} \\ \\text{M}_\\odot$. De esta manera la masa total del cúmulo de galaxias estaría dado por $M_\\text{tot} = 200 \\times 10^{12} \\ \\text{M}_\\odot$.\n",
    "\n",
    "De esta manera, la energía cinética de cada galaxia estará dada por:\n",
    "\n",
    "\\begin{equation}\n",
    "\\langle K \\rangle = \\frac{1}{2} \\times m \\times v^2 = \\frac{1}{2} \\times 10^{12} \\ \\text{M}_\\odot \\times v^2\n",
    "\\end{equation}\n",
    "\n",
    "Y la energía potencial para cada galaxia será:\n",
    "\n",
    "\\begin{equation}\n",
    "\\langle U \\rangle = - G \\frac{M_\\text{tot} \\times m}{R} = - G \\frac{200 \\times 10^{12} \\ \\text{M}_\\odot \\times 10^{12} \\ \\text{M}_\\odot}{1 \\ \\text{Mpc}}\n",
    "\\end{equation}\n",
    "\n",
    "De manera que el teorema del Virial será:\n",
    "\n",
    "\\begin{equation}\n",
    "2 \\times \\langle K \\rangle = - \\langle U \\rangle\n",
    "\\end{equation}\n",
    "\n",
    "\\begin{equation}\n",
    "2 \\times \\Big[ 200 \\times \\frac{1}{2} \\times m \\times \\langle v \\rangle^2 \\Big] =  200 \\times G \\times \\frac{(M_\\text{tot}) \\times m}{1 \\ \\text{Mpc}}\n",
    "\\end{equation}\n",
    "\n",
    "donde ha aparecido un factor $200$ a cada lado de la ecuación ya que teníamos $200$ galaxias en el cúmulo.\n",
    "\n",
    "(Yo no evalúo nada todavía porque dejo que el computador se encargue de eso)\n",
    "\n",
    "Como vemos, en la ecuación anterior podemos cancelar los $200$ que se encuentran a ambos lados de las ecuaciones, la masa $m$ (masa individual de cada galaxia) y el $\\frac{1}{2}$ con el $2$ en el lado izquierdo.  Se podría haber evaluado la expresión anterior y luego despejar $\\langle v \\rangle$... pero les hubiesen quedado números feos. Por eso recomiendo, antes de evaluar, despejar lo que desean, que se cancele lo que se tenga que cancelar y finalmente evaluar 😉\n",
    "\n",
    "Finalmente, tenemos que $v$ es:\n",
    "\n",
    "\\begin{equation}\n",
    "v = \\sqrt{G \\times \\frac{M_\\text{tot}}{1 \\ \\text{Mpc}}} = \\sqrt{G \\times \\frac{200 \\times 10^{12} \\text{M}_\\odot}{1 \\ \\text{Mpc}}}\n",
    "\\end{equation}\n",
    "\n",
    "lo cual da:"
   ]
  },
  {
   "cell_type": "code",
   "execution_count": 3,
   "id": "fe0a928d",
   "metadata": {},
   "outputs": [
    {
     "name": "stdout",
     "output_type": "stream",
     "text": [
      "La velocidad promedio es 927.46 km / s\n"
     ]
    }
   ],
   "source": [
    "v = np.sqrt(G*200*1e12*u.solMass/(1*u.megaparsec))\n",
    "print(f'La velocidad promedio es {v.to(u.km/u.s):.2f}')"
   ]
  },
  {
   "cell_type": "markdown",
   "id": "f8abd29e",
   "metadata": {},
   "source": [
    "**Solución fácil**:\n",
    "\n",
    "Simplemente usamos la ecuación (7) de la parte a), la cual era:\n",
    "\n",
    "$$\n",
    "M \\sim \\frac{R \\langle v \\rangle^2}{G} \n",
    "$$\n",
    "\n",
    "Si despejamos $\\langle v \\rangle$, llegamos a algo tan simple como:\n",
    "\n",
    "\\begin{equation}\n",
    "\\langle v \\rangle = \\sqrt{G \\times \\frac{M}{R}}\n",
    "\\end{equation}\n",
    "\n",
    "la masa total ($M$) del cúmulo será simplemente: $M = 200 \\times m = 200 \\times 10^{12} \\ \\text{M}_\\odot$, pues el cúmulo lo conforman 200 galaxias de masa $m$.\n",
    "\n",
    "Mientras que $R$ será la distancia promedio de cada galaxia al centro del cúmulo. Es decir $R = 1 \\ \\text {Mpc}$.\n",
    "\n",
    "Simplemente evaluando tendremos, finalmente:"
   ]
  },
  {
   "cell_type": "code",
   "execution_count": 4,
   "id": "b8665b47",
   "metadata": {},
   "outputs": [
    {
     "name": "stdout",
     "output_type": "stream",
     "text": [
      "Para un cúmulo de galaxias de masa total 2.00e+14 solMass cuyas galaxias están en promedio\n",
      "a 1.00 Mpc, la velocidad promedio del cúmulo es 927460.76 m / s\n",
      "Esto es equivalente a 927.46 km / s\n"
     ]
    }
   ],
   "source": [
    "def average_velocity(mass: u.quantity.Quantity, \n",
    "                    average_distance: u.quantity.Quantity) -> u.quantity.Quantity:\n",
    "    \"\"\"\n",
    "    Returns the average velocity for a virialized system of mass 'mass' and whose objects\n",
    "    have an average distance 'mean_distance'\n",
    "    \"\"\"\n",
    "    return np.sqrt(G * mass.to(u.kg) / (average_distance.to(u.m)))\n",
    "\n",
    "# Parameters\n",
    "individual_mass = 1e12 * u.solMass # mass for only one galaxy\n",
    "number_galaxies = 200\n",
    "total_mass = number_galaxies * individual_mass # total mass of the galaxy cluster\n",
    "\n",
    "avg_dist = 1 * u.megaparsec #average distance for each galaxy to the center of the cluster\n",
    "\n",
    "avg_vel = average_velocity(total_mass, avg_dist)\n",
    "\n",
    "# Result\n",
    "print(f'Para un cúmulo de galaxias de masa total {total_mass:.2e} cuyas galaxias están en promedio')\n",
    "print(f'a {avg_dist:.2f}, la velocidad promedio del cúmulo es {avg_vel:.2f}')\n",
    "print(f'Esto es equivalente a {avg_vel.to(u.km/u.s):.2f}')"
   ]
  },
  {
   "cell_type": "markdown",
   "id": "22cda1bd",
   "metadata": {},
   "source": [
    "Como se ve, el resultado 'largo' y tedioso (pero con el cual deben más o menos entender qué están haciendo) da exactamente lo mismo que el simple paso de sólo usar la formulita... pero más que solo llegar y ocupar una fórmula recuerden que deben saber cuándo usarla de buena manera 😉.\n",
    "\n",
    "Que les vaya bien en el examen."
   ]
  }
 ],
 "metadata": {
  "kernelspec": {
   "display_name": "Python 3 (ipykernel)",
   "language": "python",
   "name": "python3"
  },
  "language_info": {
   "codemirror_mode": {
    "name": "ipython",
    "version": 3
   },
   "file_extension": ".py",
   "mimetype": "text/x-python",
   "name": "python",
   "nbconvert_exporter": "python",
   "pygments_lexer": "ipython3",
   "version": "3.10.4"
  }
 },
 "nbformat": 4,
 "nbformat_minor": 5
}
