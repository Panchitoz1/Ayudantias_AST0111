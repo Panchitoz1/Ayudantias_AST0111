{
 "cells": [
  {
   "cell_type": "markdown",
   "id": "d05c21eb",
   "metadata": {},
   "source": [
    "# Ayudantía 9\n",
    "\n",
    "Francisco Carrasco Varela - ffcarrasco@uc.cl\n",
    "\n",
    ">Soluciones a los problemas numéricos de la Ayudantía 9 del 09/06/2022 para el curso AST0111 (OFG) de la Pontificia Universidad Católica de Chile"
   ]
  },
  {
   "cell_type": "code",
   "execution_count": 1,
   "id": "67c3e4c8",
   "metadata": {},
   "outputs": [
    {
     "data": {
      "application/javascript": [
       "MathJax.Hub.Config({\n",
       "    TeX: { equationNumbers: { autoNumber: \"AMS\" } }\n",
       "});\n"
      ],
      "text/plain": [
       "<IPython.core.display.Javascript object>"
      ]
     },
     "metadata": {},
     "output_type": "display_data"
    }
   ],
   "source": [
    "%%javascript\n",
    "MathJax.Hub.Config({\n",
    "    TeX: { equationNumbers: { autoNumber: \"AMS\" } }\n",
    "});"
   ]
  },
  {
   "cell_type": "code",
   "execution_count": 2,
   "id": "ea443ad8",
   "metadata": {},
   "outputs": [],
   "source": [
    "import numpy as np\n",
    "from astropy import units as u"
   ]
  },
  {
   "cell_type": "markdown",
   "id": "c5030158",
   "metadata": {},
   "source": [
    "## Problema 1. Paralaje\n",
    "### a) \n",
    "Suponga que usted observa que el paralaje de una estrella es $p = 0.52 \\ \\text{arcsec}$, ¿a qué distancia está esa estrella en pársecs?\n",
    "\n",
    "**Solución**:\n",
    "El paralaje de una estrella está mediante la relación de un triángulo rectángulo:\n",
    "\n",
    "$$\n",
    "d = \\frac{1}{\\tan(p)}\n",
    "$$\n",
    "\n",
    "Sin embargo, para ángulos pequeños podemos realizar aproximaciones, las cuales son:\n",
    "- $\\sin(x) \\approx x$, si $x$ es pequeño\n",
    "- $\\cos(x) \\approx 1$, si $x$ es pequeño\n",
    "- $\\tan(x) = \\frac{sin(x)}{\\cos(x)} \\approx \\frac{x}{1} = x$, si $x$ es pequeño\n",
    "\n",
    "con \"$x$ es pequeño\" nos referimos a que $x$ es un ángulo pequeño, usualmente menor a los $10^\\circ$. Mientras más pequeño sea el ángulo (en radianes), mejor será la aproximación.\n",
    "\n",
    "Como en astronomía siempre se trabajan con ángulos muy pequeños (desde unos pocos grados hasta arcosegundos), es muy común ver este tipo de aproximaciones que simplifican los cálculos; incluso para un computador.\n",
    "\n",
    "En nuestro caso, para aproximar la ecuación anterior nos interesa aproximar que $\\tan(x) \\approx x$\n",
    "donde $d$ es la distancia a la estrella (en unidades de pársecs) y $p$ es el paralaje, en unidades de arcosegundos.\n",
    "\n",
    "De esta manera, nuestra ecuación queda finalmente como:\n",
    "\\begin{equation}\n",
    "d = \\frac{1}{p}\n",
    "\\end{equation}\n",
    "\n",
    "donde $d$ es la distancia al objeto (estrella) en pársecs y $p$ su paralaje en arcosegundos.\n",
    "\n",
    "De esta manera, resolviendo el ejercicio con los datos dados:"
   ]
  },
  {
   "cell_type": "code",
   "execution_count": 3,
   "id": "003f82ba",
   "metadata": {},
   "outputs": [
    {
     "name": "stdout",
     "output_type": "stream",
     "text": [
      "Para un paralaje de 0.32 arcsec se tiene que el objeto está a una distancia de 3.12 pc\n"
     ]
    }
   ],
   "source": [
    "def parallax(parallax_angle: float) -> u.quantity.Quantity:\n",
    "    \"\"\"\n",
    "    Simple parallax function\n",
    "    \"\"\"\n",
    "    return 1/parallax_angle * u.pc\n",
    "    \n",
    "# Paramaters\n",
    "angle = 0.32 * u.arcsec\n",
    "\n",
    "# Result\n",
    "print(f'Para un paralaje de {angle} se tiene que el objeto está a una distancia de {parallax(angle.value):.2f}')\n",
    "    "
   ]
  },
  {
   "cell_type": "markdown",
   "id": "49391e3f",
   "metadata": {},
   "source": [
    "## Problema 2. Galaxias\n",
    "### b) \n",
    "Calcule el mass-to-light ratio ($\\Upsilon$) para una estrella muy luminosa y masiva de $M = 100 \\ M_\\odot$, cuya luminosidad es $L = 10^6 L_\\odot$. Ahora, calcule el mass-to-light ratio para una estrella poco masiva de $M = 0.1 \\ M_\\odot$ cuya luminosidad es $L = 10^{-3} \\ L_\\odot$. ¿Qué sucede si compara el mass-to-light ratio obtenido para una estrella masiva con aquel obtenido para una estrella poco masiva?\n",
    "\n",
    "\n",
    "**Solución**\n",
    "\n",
    "\n",
    "Simplemente calculamos el mass-to-light ratio mediante la relación:\n",
    "\\begin{equation}\n",
    "\\Upsilon = \\frac{\\text{Masa total}}{\\text{Luminosidad}}\n",
    "\\end{equation}\n",
    "\n",
    "dando ésta para ambas estrellas:"
   ]
  },
  {
   "cell_type": "code",
   "execution_count": 4,
   "id": "ba09f551",
   "metadata": {},
   "outputs": [
    {
     "name": "stdout",
     "output_type": "stream",
     "text": [
      "Para una estrella de baja masa con masa 0.5 solMass y luminosidad 0.001 solLum se tiene que su mass-to-light ratio es 5.00e+02 solMass / solLum\n",
      "################################################################################\n",
      "Para una estrella de alta masa con masa 100.0 solMass y luminosidad 1000000.0 solLum se tiene que su mass-to-light ratio es 1.00e-04 solMass / solLum\n"
     ]
    }
   ],
   "source": [
    "def mass_to_light_ratio(mass: u.quantity.Quantity, \n",
    "                        luminosity: u.quantity.Quantity) -> u.quantity.Quantity:\n",
    "    \"\"\"\n",
    "    Computes mass-to-light radio in units of solar_masses/solar_luminosity\n",
    "    \"\"\"\n",
    "    return mass.to(u.solMass)/luminosity.to(u.solLum)\n",
    "\n",
    "# Low-mass star parameters\n",
    "low_mass_star = 0.5 * u.solMass\n",
    "low_mass_lum = 1e-3 * u.solLum\n",
    "\n",
    "# High-mass star parameters\n",
    "high_mass_star = 100 * u.solMass\n",
    "high_mass_lum = 1e6 * u.solLum\n",
    "\n",
    "# Get mass-to-light ratios\n",
    "low_mass_to_light_ratio = mass_to_light_ratio(low_mass_star, low_mass_lum)\n",
    "high_mass_to_light_ratio = mass_to_light_ratio(high_mass_star, high_mass_lum)\n",
    "\n",
    "# Results\n",
    "print(f'Para una estrella de baja masa con masa {low_mass_star} y luminosidad {low_mass_lum} se tiene', end = ' ')\n",
    "print(f'que su mass-to-light ratio es {low_mass_to_light_ratio:.2e}')\n",
    "print(80*'#')\n",
    "print(f'Para una estrella de alta masa con masa {high_mass_star} y luminosidad {high_mass_lum} se tiene', end = ' ')\n",
    "print(f'que su mass-to-light ratio es {high_mass_to_light_ratio:.2e}')\n"
   ]
  },
  {
   "cell_type": "markdown",
   "id": "c1668126",
   "metadata": {},
   "source": [
    "### c)\n",
    "Calcule el mass-to-light ratio ($\\Upsilon$) para un cúmulo globular compuesto de $10^5$ cuya luminosidad  total es $L_{\\text{GC}} = 10^6 \\ L_\\odot$. Puede asumir que la masa promedio de cada estrella que compone el cúmulo es $<M> \\ = 0.5 \\ M_\\odot$.\n",
    "\n",
    "**Solución**\n",
    "\n",
    "Volvemos a utilizar la misma relación $\\Upsilon$ que acabamos de usar, dando así:"
   ]
  },
  {
   "cell_type": "code",
   "execution_count": 5,
   "id": "aae0f613",
   "metadata": {},
   "outputs": [
    {
     "name": "stdout",
     "output_type": "stream",
     "text": [
      "For a globular cluster with total luminosity 1000000.0 solLum and total visual mass 50000.0 solMass we obtain a mass-to-light ratio 0.05 solMass / solLum\n"
     ]
    }
   ],
   "source": [
    "# Globular Cluster parameters\n",
    "N_stars = 1e5 # number of stars\n",
    "average_star_mass = 0.5 * u.solMass\n",
    "GC_mass = N_stars * average_star_mass\n",
    "GC_luminosity = 1e6  * u.solLum\n",
    "\n",
    "# Get mass-to-light ratio\n",
    "GC_mass_to_light_ratio = mass_to_light_ratio(GC_mass, GC_luminosity)\n",
    "\n",
    "# Results\n",
    "print(f'For a globular cluster with total luminosity {GC_luminosity} and total visual mass {GC_mass}', end = ' ')\n",
    "print(f'we obtain a mass-to-light ratio {GC_mass_to_light_ratio:.2f}')"
   ]
  },
  {
   "cell_type": "markdown",
   "id": "98f0b86b",
   "metadata": {},
   "source": [
    "### d) \n",
    "Suponga que usted vuelve a observar el cúmulo globular del ejercicio anterior. Mediante modelos físicos y matemáticos junto con observaciones/mediciones usted sabe que el $\\Upsilon$ anterior debería darle alrededor de $2 \\ \\frac{M_\\odot}{L_\\odot}$; sin embargo, usted obtiene el resultado anterior y ve que las cosas \"no calzan\". ¿Qué podría explicar (y podría agregar al cálculo del ejercicio anterior) para que el $\\Upsilon$ obtenido en el modelo anterior sea similar al $\\Upsilon$ obtenido mediante modelos matemáticos? (Hint: En el ejercicio pasado sólo asumimos masa de objetos que emitían luz como las estrellas...)\n",
    "\n",
    "**Solución**:\n",
    "\n",
    "Sabemos que el mass-to-light ratio está dado por:\n",
    "\n",
    "\\begin{equation}\n",
    "\\Upsilon = \\frac{\\text{Masa total}}{\\text{Luminosidad}}\n",
    "\\end{equation}\n",
    "\n",
    "No podemos hacer aparecer luminosidad de la nada, de lo contrario podríamos detectarlo con los telescopios. Sin embargo, debe de haber algún tipo de materia que no interactúe con la luz; o que no emita luz... algo que nuestros telescopios no pueden detectar: la materia oscura. Es decir, no podemos agregar un componente lumínico, pero sí algo que agregue masa.\n",
    "Si a nuestra \"Masa total\" asumimos que no solo es materia que está emitiendo luz, sino también materia que interactúa con la gravedad tenemos que la \"Masa total\" es en realidad:\n",
    "\n",
    "\\begin{equation}\n",
    "\\text{Masa total} = \\text{Masa visible} + \\text{Masa oscura}\n",
    "\\end{equation}\n",
    "\n",
    "Así, la mass-to-light ratio queda como:\n",
    "\n",
    "\\begin{equation}\n",
    "\\Upsilon = \\frac{(\\text{Masa visible} + \\text{Masa oscura})}{\\text{Luminosidad}}\n",
    "\\end{equation}\n",
    "\n",
    "Podemos despejar simplemente la \"masa oscura\", quedando así:\n",
    "\n",
    "\\begin{equation}\n",
    "\\text{Masa oscura} = \\Upsilon \\times \\text{Luminosidad} - \\text{Masa visible}\n",
    "\\end{equation}\n",
    "\n",
    "Utilizando los datos que tenemos, nuestro simple modelo nos da que la masa/materia oscura que tenemos debe tener una masa de:"
   ]
  },
  {
   "cell_type": "code",
   "execution_count": 6,
   "id": "7858df42",
   "metadata": {},
   "outputs": [
    {
     "name": "stdout",
     "output_type": "stream",
     "text": [
      "La materia oscura estimada es: 1.95e+06 solMass\n",
      "Donde la materia oscura es un 97.5% del total\n"
     ]
    }
   ],
   "source": [
    "def hidden_dark_matter(mass_to_light_ratio: u.quantity.Quantity, \n",
    "                       luminosity: u.quantity.Quantity,\n",
    "                       visible_mass: u.quantity.Quantity) -> u.quantity.Quantity:\n",
    "    \"\"\"\n",
    "    A simple model to estimate dark matter given a mass-to-light ratio,\n",
    "    a luminosity and a visible mass\n",
    "    \"\"\"\n",
    "    mass_to_light_ratio = mass_to_light_ratio.to(u.solMass/u.solLum)\n",
    "    luminosity = luminosity.to(u.solLum)\n",
    "    visible_mass = visible_mass.to(u.solMass)\n",
    "    return (mass_to_light_ratio * luminosity) - visible_mass\n",
    "\n",
    "# Parameters\n",
    "model_mass_to_light_ratio = 2. * (u.solMass/u.solLum)\n",
    "tot_luminosity = GC_luminosity\n",
    "visible_mass = GC_mass\n",
    "\n",
    "# Results\n",
    "dark_matter = hidden_dark_matter(model_mass_to_light_ratio, tot_luminosity, visible_mass)\n",
    "total_mass = dark_matter + visible_mass\n",
    "print(f'La materia oscura estimada es: {dark_matter:.2e}')\n",
    "print(f'Donde la materia oscura es un {dark_matter/total_mass*100}% del total')"
   ]
  },
  {
   "cell_type": "markdown",
   "id": "74df90ff",
   "metadata": {},
   "source": [
    "### g)\n",
    "Supongamos que logramos medir el redshift (recuerde el efecto Doppler) de una galaxia, y gracias a ello encontramos que ésta se mueve a $18 \\ 000 \\ \\frac{\\text{km}}{\\text{s}}$ de nosotros. ¿A qué distancia se encuentra la galaxia? (Importante: ¿en qué unidades?)\n",
    "\n",
    "**Solución**\n",
    "\n",
    "Simplemente aplicamos la ley de Hubble la cual es:\n",
    "\n",
    "\\begin{equation}\n",
    "v = H_0 \\times d\n",
    "\\end{equation}\n",
    "\n",
    "donde $v$ es la velocidad de recesión, $H_0$ es la constante de Hubble y $d$ es la distancia a la galaxia.\n",
    "\n",
    "Si queremos estimar la distancia, simplemente la despejamos de la ecuación anterior, dando así:\n",
    "\n",
    "\\begin{equation}\n",
    "d = \\frac{v}{H_0}\n",
    "\\end{equation}\n",
    "\n",
    "Usando $H_0$ como $H_0 = 69.32 \\frac{\\frac{\\text{km}}{\\text{s}}}{\\text{Mpc}}$ tenemos numéricamente que:"
   ]
  },
  {
   "cell_type": "code",
   "execution_count": 7,
   "id": "4bfa4fb2",
   "metadata": {},
   "outputs": [
    {
     "name": "stdout",
     "output_type": "stream",
     "text": [
      "Para una galaxia a 18000.0 km / s, segun la ley de Hubble ésta está a una distancia de 2.60e+02 Mpc\n",
      "O, equivalentemente, 8.47e+08 lyr\n"
     ]
    }
   ],
   "source": [
    "from astropy.cosmology import WMAP9 as cosmo\n",
    "\n",
    "\n",
    "def distanceHubbleLaw(vel: u.quantity.Quantity) -> u.quantity.Quantity:\n",
    "    \"\"\"\n",
    "    Estimates the distance to an object using Hubble's law\n",
    "    \"\"\"\n",
    "    H_0 = cosmo.H(0)\n",
    "    vel = vel.to(u.kilometer /u.s)\n",
    "    return vel/H_0\n",
    "\n",
    "# Parameters\n",
    "velocity = 18_000 * (u.kilometer/u.s)\n",
    "\n",
    "#Results\n",
    "dist = distanceHubbleLaw(velocity)\n",
    "print(f'Para una galaxia a {velocity}, segun la ley de Hubble ésta está a una distancia de {dist:.2e}')\n",
    "print(f'O, equivalentemente, {dist.to(u.lyr):.2e}')\n"
   ]
  }
 ],
 "metadata": {
  "kernelspec": {
   "display_name": "Python 3 (ipykernel)",
   "language": "python",
   "name": "python3"
  },
  "language_info": {
   "codemirror_mode": {
    "name": "ipython",
    "version": 3
   },
   "file_extension": ".py",
   "mimetype": "text/x-python",
   "name": "python",
   "nbconvert_exporter": "python",
   "pygments_lexer": "ipython3",
   "version": "3.10.4"
  }
 },
 "nbformat": 4,
 "nbformat_minor": 5
}
