{
 "cells": [
  {
   "cell_type": "markdown",
   "id": "81930dff",
   "metadata": {},
   "source": [
    "# Ayudantía 3\n",
    "\n",
    "Francisco Carrasco Varela - ffcarrasco@uc.cl\n",
    "\n",
    ">Soluciones a los problemas numéricos de la Ayudantía 3 del 05/04/2022 para el curso AST0111 (OFG) de la Pontificia Universidad Católica de Chile\n",
    "\n",
    "\n",
    "\n"
   ]
  },
  {
   "cell_type": "markdown",
   "id": "bfcd06b4",
   "metadata": {},
   "source": [
    "## Problema 2\n",
    "\n",
    "### c)\n",
    "Si la Tierra se encuentra a una distancia promedio de $1 \\ \\text{UA}$ del Sol y demora $365.25 \\ \\text{días}$ en dar una vuelta a éste, ¿cuánto demorará en dar una vuelta al Sol el planeta Marte que se encuentra a una distancia promedio de $1.5 \\ \\text{UA}$?\n",
    "\n",
    "**Solución**:\n",
    "\n",
    "De las leyes de Kepler sabemos que:\n",
    "\n",
    "$\\frac{P^2}{R^3} = \\text{constante}$\n",
    "\n",
    "De manera que al ser constante, ya sea que calculemos esto con la Tierra, con Marte, con Júpiter o cualquier cosa que orbite alrededor del Sol tendremos que:\n",
    "\n",
    "$\\frac{P_{\\text{Tierra}}^2}{R_{\\text{Tierra}}^3} = \\text{constante}$\n",
    "\n",
    "Y de la misma manera:\n",
    "\n",
    "$\\frac{P_{\\text{Marte}}^2}{R_{\\text{Marte}}^3} = \\text{constante}$\n",
    "\n",
    "De manera que podemos igualar ambas ecuaciones ya que ambas son iguales a la misma constante; así:\n",
    "\n",
    "$\\frac{P_{\\text{Tierra}}^2}{R_{\\text{Tierra}}^3} = \\frac{P_{\\text{Marte}}^2}{R_{\\text{Marte}}^3}$\n",
    "\n",
    "¿Qué es lo que queremos encontrar en este ejercicio? El Período que demora Marte en dar una vuelta alrededor del Sol, es decir, $P_{\\text{Marte}}$.\n",
    "\n",
    "Despejando $P_{\\text{Marte}}$ tendremos:\n",
    "\n",
    "$P_{\\text{Marte}} = \\sqrt{\\frac{P_{\\text{Tierra}}^2 \\times R_{\\text{Marte}}^3}{R_{\\text{Tierra}}^3}}$\n",
    "\n",
    "Donde si calculamos:"
   ]
  },
  {
   "cell_type": "code",
   "execution_count": 1,
   "id": "a47981ab",
   "metadata": {},
   "outputs": [
    {
     "name": "stdout",
     "output_type": "stream",
     "text": [
      "Marte demora aproximadamente 684.47 d en dar una vuelta al Sol\n",
      "Lo que es equivalente a 1.87 yr aproximadamente\n"
     ]
    }
   ],
   "source": [
    "from astropy import units as u\n",
    "from astropy import constants as const\n",
    "import numpy as np\n",
    "\n",
    "### Definmos las variables a usar\n",
    "\n",
    "R_Earth = 1. * u.au #Distancia Sol-Tierra\n",
    "R_Mars = 1.52 * u.au #Distancia Sol-Marte\n",
    "P_Earth = 365.25 * u.day\n",
    "\n",
    "# Calculamos cuanto vale el Periodo de Marte con la formula dada arriba por la tercera Ley de Kepler\n",
    "P_Mars = np.sqrt( ((P_Earth**2)  * (R_Mars**3))/(R_Earth**3))\n",
    "\n",
    "# Y el resultado es...\n",
    "print(f\"Marte demora aproximadamente {P_Mars.value:.2f} {P_Mars.unit} en dar una vuelta al Sol\")\n",
    "print(f\"Lo que es equivalente a {P_Mars.to(u.year).value:.2f} {P_Mars.to(u.year).unit} aproximadamente\")"
   ]
  },
  {
   "cell_type": "markdown",
   "id": "7c8284b2",
   "metadata": {},
   "source": [
    "### d)\n",
    "\n",
    "Como verá ahora las Leyes de Kepler no solo se pueden aplicar a planetas alrededor del Sol, sino también a la Tierra y sus satélites... tanto naturales como artificiales. Si la Luna se encuentra a $384.000 \\ \\text{km}$ de distancia de la Tierra en promedio y demora $27.32 \\ \\text{días}$. ¿A qué distancia tiene que estar un satélite artificial para tener exactamente el mismo período orbital de la Tierra ($23.93 \\ \\text{horas})$?\n",
    "\n",
    "**Solución**:\n",
    "\n",
    "La manera de pensar el problema anterior es exactamente la misma al caso de la Tierra-Sol y Marte-Sol; solo que en este caso debemos pensarlo como Luna-Tierra y Satélite-Tierra. \n",
    "\n",
    "De manera que por la tercera Ley de Kepler tendremos:\n",
    "\n",
    "$\\frac{P_{\\text{Luna}}^2}{R_{\\text{Luna}}^3} = \\frac{P_{\\text{Satélite}}^2}{R_{\\text{Satélite}}^3}$\n",
    "\n",
    "En este caso nos interesa saber la distancia a la que debe estar el satélite de manera que su período sea igual al período de rotación de la Tierra. Así que queremos conocer el valor de $R_{\\text{Satélite}}$. Despejando de la ecuación anterior nos queda simplemente:\n",
    "\n"
   ]
  },
  {
   "cell_type": "markdown",
   "id": "d12fcb79",
   "metadata": {},
   "source": [
    "$R_{\\text{Satélite}} = \\sqrt[3]{\\frac {P_{\\text{Satélite}}^2 \\ \\times \\ R_{\\text{Luna}}^3} {P_{\\text{Luna}}^2}}$"
   ]
  },
  {
   "cell_type": "code",
   "execution_count": 2,
   "id": "4dc7c29f",
   "metadata": {},
   "outputs": [
    {
     "name": "stdout",
     "output_type": "stream",
     "text": [
      "El satelite debe estar a aproximadamente unos 42250.49 km de distancia del centro de la Tierra\n",
      "Lo cual es unos 35872.4 km de altura desde la superficie terrestre\n"
     ]
    }
   ],
   "source": [
    "### Definimos las variables a usar\n",
    "P_Satelite = 23.93 * u.hour\n",
    "R_Moon = 384000 * u.km\n",
    "P_Moon = 27.32 * u.day\n",
    "\n",
    "# Convertimos el periodo de la Luna en horas\n",
    "P_Moon = P_Moon.to(u.hour)\n",
    "\n",
    "# Y el resultado da finalmente\n",
    "R_Satelite = ( (P_Satelite**2) * (R_Moon**3) / (P_Moon**2))**(1/3)\n",
    "print(f\"El satelite debe estar a aproximadamente unos {R_Satelite.value:.2f} {R_Satelite.unit} de distancia del centro de la Tierra\")\n",
    "print(f\"Lo cual es unos {(R_Satelite - const.R_earth.to(u.km)):.1f} de altura desde la superficie terrestre\")"
   ]
  },
  {
   "cell_type": "code",
   "execution_count": null,
   "id": "dfca89a2",
   "metadata": {},
   "outputs": [],
   "source": []
  }
 ],
 "metadata": {
  "kernelspec": {
   "display_name": "Python 3 (ipykernel)",
   "language": "python",
   "name": "python3"
  },
  "language_info": {
   "codemirror_mode": {
    "name": "ipython",
    "version": 3
   },
   "file_extension": ".py",
   "mimetype": "text/x-python",
   "name": "python",
   "nbconvert_exporter": "python",
   "pygments_lexer": "ipython3",
   "version": "3.10.4"
  }
 },
 "nbformat": 4,
 "nbformat_minor": 5
}
