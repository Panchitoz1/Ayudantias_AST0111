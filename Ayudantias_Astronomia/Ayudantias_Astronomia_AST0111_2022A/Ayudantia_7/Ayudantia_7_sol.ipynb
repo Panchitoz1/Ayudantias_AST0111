{
 "cells": [
  {
   "cell_type": "markdown",
   "id": "961014ba",
   "metadata": {},
   "source": [
    "# Ayudantía 7\n",
    "\n",
    "Francisco Carrasco Varela - ffcarrasco@uc.cl\n",
    "\n",
    ">Soluciones a los problemas numéricos de la Ayudantía 6 del 13/05/2022 para el curso AST0111 (OFG) de la Pontificia Universidad Católica de Chile"
   ]
  },
  {
   "cell_type": "code",
   "execution_count": 1,
   "id": "e618676c",
   "metadata": {},
   "outputs": [
    {
     "data": {
      "application/javascript": [
       "MathJax.Hub.Config({\n",
       "    TeX: { equationNumbers: { autoNumber: \"AMS\" } }\n",
       "});\n"
      ],
      "text/plain": [
       "<IPython.core.display.Javascript object>"
      ]
     },
     "metadata": {},
     "output_type": "display_data"
    }
   ],
   "source": [
    "%%javascript\n",
    "MathJax.Hub.Config({\n",
    "    TeX: { equationNumbers: { autoNumber: \"AMS\" } }\n",
    "});"
   ]
  },
  {
   "cell_type": "markdown",
   "id": "633df0c5",
   "metadata": {},
   "source": [
    "##Problema 1 - Luz y magnitudes\n",
    "\n",
    "### b) \n",
    "Si una estrella tiene su peak de emisión en longitud de onda $\\lambda = 3500 \\ \\unicode{x212B}$, ¿cuál es su temperatura efectiva?\n",
    "\n",
    "**Solución**:\n",
    "\n",
    "Para solucionar este problema podemos utilizar la Ley de Wien, la cual relaciona la longitud de onda del peak máximo al cual emite una estrella con su temperatura efectiva:\n",
    "\n",
    "\\begin{equation}\n",
    "T = \\frac{2.898 \\times 10^{-3} \\ \\text{m} \\cdot \\text{K}}{\\lambda_\\text{max}}\n",
    "\\end{equation}\n",
    "\n",
    "donde en este caso $\\text{m}$ y $\\text{K}$ no son más que las unidades de metros y Kelvin, respectivamente. Notemos que si $\\lambda_\\text{max}$ está en unidades de metros, entonces los metros se cancelan entre el numerador y el denominador. De manera que solo nos quedan unidades de K (temperatura), que es lo que deseamos.  Así, utilizando los datos dados encontramos que la estrella está a una temperatura de:"
   ]
  },
  {
   "cell_type": "code",
   "execution_count": 2,
   "id": "96eca532",
   "metadata": {},
   "outputs": [
    {
     "name": "stdout",
     "output_type": "stream",
     "text": [
      "Si la estrella tiene un peak de emisión a 3500.0 Angstrom, entonces la temperatura efectiva de ésta es 8280 K.\n"
     ]
    }
   ],
   "source": [
    "from astropy import units as u\n",
    "\n",
    "def Wien_law(max_lambda):\n",
    "    \"\"\"\n",
    "    Returns effective temperature of a star given its peak wavelength (where it has a peak on its emission).\n",
    "    Temperature is returned in Kelvin.\n",
    "    \"\"\"\n",
    "    return (2.898e-3 * u.m * u.K)/(max_lambda.to(u.m))\n",
    "\n",
    "### Input\n",
    "max_wave = 3500 * u.Angstrom\n",
    "print(f\"Si la estrella tiene un peak de emisión a {max_wave}, entonces la temperatura efectiva de ésta es {Wien_law(max_wave):.0f}.\")"
   ]
  }
 ],
 "metadata": {
  "kernelspec": {
   "display_name": "Python 3 (ipykernel)",
   "language": "python",
   "name": "python3"
  },
  "language_info": {
   "codemirror_mode": {
    "name": "ipython",
    "version": 3
   },
   "file_extension": ".py",
   "mimetype": "text/x-python",
   "name": "python",
   "nbconvert_exporter": "python",
   "pygments_lexer": "ipython3",
   "version": "3.10.4"
  }
 },
 "nbformat": 4,
 "nbformat_minor": 5
}
