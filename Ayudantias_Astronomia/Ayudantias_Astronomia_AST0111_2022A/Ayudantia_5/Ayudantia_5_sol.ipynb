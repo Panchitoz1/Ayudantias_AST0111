{
 "cells": [
  {
   "cell_type": "markdown",
   "id": "8014eaed",
   "metadata": {},
   "source": [
    "# Ayudantía 5\n",
    "\n",
    "Francisco Carrasco Varela - ffcarrasco@uc.cl\n",
    "\n",
    ">Soluciones a los problemas numéricos de la Ayudantía 5 del 03/05/2022 para el curso AST0111 (OFG) de la Pontificia Universidad Católica de Chile"
   ]
  },
  {
   "cell_type": "markdown",
   "id": "95dd7101",
   "metadata": {},
   "source": [
    "## Problema 2\n",
    "\n",
    "### d) \n",
    "Suponga que usted observa el espectro de una estrella y mide que la línea de $H \\alpha$ (léase como ``hache alfa'') se encuentra en la longitud de onda $6560 \\ \\unicode[serif]{xC5}$ ($\\unicode[serif]{xC5} = 10^{-10} \\ \\text{m}$) cuando en realidad ésta al ser medida en un laboratorio está a $6563 \\ \\unicode[serif]{xC5}$. ¿Cuál es la velocidad radial de la estrella? ¿Se está acercando o alejando de nosotros la estrella?\n",
    "\n",
    "**Solución**:\n",
    "\n",
    "Para resolver este problema simplemente usamos la fórmula del efecto Doppler dada por:\n",
    "\n",
    "$$\n",
    "\\frac{v}{c} = \\frac{(\\lambda - \\lambda_0)}{\\lambda_0} = \\frac{\\Delta \\lambda}{\\lambda_0}\n",
    "$$\n",
    "\n",
    "De manera que, despejando $v$ simplemente nos queda:\n",
    "\n",
    "$$\n",
    "v = c \\cdot \\frac{(\\lambda - \\lambda_0)}{\\lambda_0}\n",
    "$$\n",
    "\n",
    "Así, la solución numérica es finalmente:"
   ]
  },
  {
   "cell_type": "code",
   "execution_count": 1,
   "id": "049606fd",
   "metadata": {},
   "outputs": [
    {
     "name": "stdout",
     "output_type": "stream",
     "text": [
      "La estrella se mueve a una velocidad de -45.68 km / s\n",
      "Por lo que la estrella se acerca hacia nosotros a esa velocidad\n"
     ]
    }
   ],
   "source": [
    "from astropy import units as u\n",
    "from astropy import constants as const\n",
    "\n",
    "\n",
    "def radial_velocity(lambda_shifted, lambda_rest):\n",
    "    \"\"\"\n",
    "    Returns radial velocity of a star applying Doppler effect\n",
    "    \"\"\"\n",
    "    delta_lambda = lambda_shifted - lambda_rest\n",
    "    rad_vel = const.c * delta_lambda/lambda_rest\n",
    "    return rad_vel.to('km/s')\n",
    "\n",
    "\n",
    "### Input values\n",
    "measured_line = 6562 * u.Angstrom #measured/shifted H_alpha line\n",
    "rest_line = 6563 * u.Angstrom #H_alpha line in rest frame\n",
    "\n",
    "### Result\n",
    "print(f'La estrella se mueve a una velocidad de {radial_velocity(measured_line, rest_line):.2f}')\n",
    "\n",
    "if radial_velocity(measured_line, rest_line) < 0:\n",
    "    print('Por lo que la estrella se acerca hacia nosotros a esa velocidad')\n",
    "if radial_velocity(measured_line, rest_line) == 0:\n",
    "    print('La estrella no se acerca ni se aleja de nosotros')  # ...that would be weird...\n",
    "if radial_velocity(measured_line, rest_line) > 0:\n",
    "    print('Por lo que la estrella se aleja a esa velocidad de nosotros')"
   ]
  },
  {
   "cell_type": "markdown",
   "id": "809bb5b8",
   "metadata": {},
   "source": [
    "### e)\n",
    "\n",
    "Una persona se pasa un semáforo en luz roja. Justo en ese lugar iba pasando una patrulla la cual ve a la persona pasándose la luz roja y la hace detenerse. Al hablar, el policía le indica claramente que se había pasado una luz roja y que, por tanto, debía cursarle una infracción. La persona afectada indica que esto no es así; que, en su defensa, él veía la luz de semáforo en verde. Luego de un rato discutiendo el policía decide darle la razón: la persona vió la luz del semáforo en verde, ¿se salva la persona de la infracción? ¿Por qué sí/no?\n",
    "\n",
    "**Solución**:\n",
    "\n",
    "La persona dice que vio la luz verde en vez de roja, es decir, vio una luz con longitud de onda de $\\sim 550 \\text{nm}$ (verde) en vez de una luz con longitud de onda $\\sim 700 \\text{nm}$ (roja).\n",
    "\n",
    "Por lo que en este caso tendremos, usando la ecuación de efecto Doppler del ejercicio anterior, que:\n",
    "\n",
    "$\\frac{v}{c} = \\frac{\\Delta \\lambda}{\\lambda_0} = \\frac{(550 - 750) \\text{nm}}{750 \\text{nm}}$\n",
    "\n",
    "Despejando $v$ finalmente tenemos:\n",
    "\n",
    "$v = c \\times \\frac{(550 - 750) \\text{nm}}{750 \\text{nm}}$\n",
    "\n",
    "Lo que numéricamente es:\n"
   ]
  },
  {
   "cell_type": "code",
   "execution_count": 2,
   "id": "656c96e1",
   "metadata": {},
   "outputs": [
    {
     "name": "stdout",
     "output_type": "stream",
     "text": [
      "La persona debería ir a un exceso de velocidad de -6.42e+07 m / s\n",
      "Esto es equivalente a -2.31e+08 km / h\n",
      "O unas 0.21 veces la velocidad de la luz\n"
     ]
    }
   ],
   "source": [
    "def shifted(shifted_wave, rest_wavelength):\n",
    "    \"\"\"\n",
    "    Gives the ratio between the difference of a shifted wavelength and its rest wavelength;\n",
    "    all that divided into rest wavelength. Useful for Doppler effect speed estimations.\n",
    "    \"\"\"\n",
    "    return (shifted_wave - rest_wavelength)/rest_wavelength\n",
    "\n",
    "\n",
    "### Input\n",
    "shifted_w = 550 * u.nm #green light wavelength\n",
    "rest_w = 700 * u.nm #red light wavelength\n",
    "\n",
    "### Result\n",
    "speed = const.c * shifted(shifted_w, rest_w)\n",
    "print(f\"La persona debería ir a un exceso de velocidad de {speed:.2e}\")\n",
    "print(f\"Esto es equivalente a {speed.to('km/h'):.2e}\")\n",
    "print(f\"O unas {abs((speed/const.c)):.2f} veces la velocidad de la luz\")"
   ]
  },
  {
   "cell_type": "markdown",
   "id": "1b4dfd8f",
   "metadata": {},
   "source": [
    "## Problema 2\n",
    "\n",
    "### a)\n",
    "Supongamos que tenemos una ampolleta ultra eficiente (toda su energía se usa en luz y nada se pierde en calor) de $100$ Watts la cual emite toda su energía en verde. Si los fotones en verde tienen una frecuencia de $\\sim 550 \\ \\text{nm}$ ($1 \\ \\text{nm} = 10^{-9} \\ \\text{m}$), ¿cuántos fotones de este color está emitiendo la ampolleta cada segundo, aproximadamente? Puede serle de utilidad saber que la constante de Planck es $h = 6.62 \\times 10^{-34} \\ \\text{J} \\cdot \\text{s}$.\n",
    "\n",
    "**Solución**:\n",
    "\n",
    "Sabemos que la ampolleta es de 100 Watts, es decir, tiene una luminosidad de 100 Watts. En otras palabras\n",
    "\n",
    "$ L_{\\text{ampolleta}} = \\frac{\\text{energía}}{\\text{segundo}} = 100 \\cdot \\frac{J}{s} = 100 \\ \\text{W}$\n",
    "\n",
    "Ya que toda la energía de la ampolleta es en verde, se tiene que:\n",
    "\n",
    "$100 \\ \\text{W} = \\frac{energía fotones}{tiempo}$\n",
    "\n",
    "De manera que:\n",
    "\n",
    "$\\text{tiempo} \\cdot 100 \\ \\text{W} = \\text{energía fotones}\n",
    "\n",
    "La energía de un solo fotón está dada por:\n",
    "\n",
    "$$\n",
    " E = h \\nu\n",
    "$$\n",
    "\n",
    "donde $E$ es la energía de un fotón, $h$ la constante de Planck y $\\nu$ la frecuencia del fotón.\n",
    "\n",
    "Ahora bien, en el enunciado NO nos dan la frecuencia de los fotones, sino más bien su longitud de onda. La longitud de onda y la frecuencia de un fotón se relacionan mediante la ecuación:\n",
    "\n",
    "$$\n",
    " \\lambda \\cdot \\nu = c\n",
    "$$\n",
    "\n",
    "con $c$ la velocidad de la luz. De manera que $\\nu = c \\ / \\ \\lambda$. \n",
    "\n",
    "Por lo que la energía se puede escribir en función de la longitud de onda como:\n",
    "\n",
    "$$\n",
    "E =  \\frac{h \\cdot c}{\\lambda}\n",
    "$$\n",
    "\n",
    "Para $n$ fotones la energía está dada simplemente por energía $n$ veces:\n",
    "$$\\tilde{E} = n \\times E = n h \\nu = \\frac{n h c}{\\lambda}$$ \n",
    "\n",
    "Como la energía de la ampolleta son $n$ fotones siendo emitidos por segundo, entonces su energía es $\\tilde{E}$. De manera que reemplazando:\n",
    "\n",
    "$\\text{tiempo} \\cdot 100 \\ \\text{W} = \\tilde{E}$\n",
    "\n",
    "Que reemplazando es:\n",
    "\n",
    "$\\text{tiempo} \\cdot 100 \\ \\text{W} = n h \\nu $\n",
    "\n",
    "Ya que queremos saber cuántos fotones por segundo salen de la ampolleta queremos despejar $n$, de manera que:\n",
    "\n",
    "$\\text{num. fotones} = n = 1 \\ \\text{s} \\cdot 100 \\ \\text{W} \\cdot \\frac{1}{h \\cdot \\nu}\n",
    " = 1 \\ \\text{s} \\cdot 100 \\ \\text{W} \\cdot \\frac{\\lambda}{h \\cdot c}\n",
    " = 1 \\ \\text{s} \\cdot 100 \\ \\text{W} \\cdot \\frac{1}{E}$\n",
    "\n",
    "Lo cual da, numéricamente:"
   ]
  },
  {
   "cell_type": "code",
   "execution_count": 3,
   "id": "009791ee",
   "metadata": {},
   "outputs": [
    {
     "name": "stdout",
     "output_type": "stream",
     "text": [
      "Para una ampolleta de 100.0 W emitiendo a longitud de onda 550.0 nm, ésta emite unos 2.77e+20 fotones cada 1.0 s\n"
     ]
    }
   ],
   "source": [
    "def photon_energy(photon_wavelength):\n",
    "    \"\"\"\n",
    "    Returns the energy of a photon in function of its wavelength\n",
    "    \"\"\"\n",
    "    return const.h * const.c / photon_wavelength.to(u.m)\n",
    "\n",
    "\n",
    "def n_photons(time_given, light_w, photon_energ):\n",
    "    \"\"\"\n",
    "    Returns numbers of photon being emitted by a source with a given power and in a certain time range\n",
    "    \"\"\"\n",
    "    return time_given * light_w.to('J/s') / photon_energ\n",
    "\n",
    "\n",
    "### Add input values\n",
    "lightbulb_w = 100 * u.W\n",
    "photon_wave = 550 * u.nm\n",
    "time_given = 1 * u.s\n",
    "\n",
    "\n",
    "# Compute photon energy\n",
    "single_photon_energy = photon_energy(photon_wave)\n",
    "\n",
    "# Compute number of photons\n",
    "number_of_photons = n_photons(time_given, lightbulb_w, photon_energy(photon_wave))\n",
    "\n",
    "### Result\n",
    "print(f'Para una ampolleta de {lightbulb_w} emitiendo a longitud de onda {photon_wave}, ésta emite ', end='')\n",
    "print(f'unos {number_of_photons:.2e} fotones cada {time_given}')"
   ]
  },
  {
   "cell_type": "markdown",
   "id": "30639dc5",
   "metadata": {},
   "source": [
    "### f)\n",
    "Se estima que en el mundo se consumen unos $160 \\ 000 \\ \\text{TWh}$ (``Terawatt hora''), lo cual son aproximadamente unos $\\sim 6 \\times 10^{20} \\ \\text{W}$. El Sol tiene una luminosidad de $L_\\odot = 3.82 \\times 10^{26} \\text{W}$. Si de alguna manera pudiésemos aprovechar toda la energía que emite el Sol por tan solo un segundo, ¿cuánto tiempo podría sustentar la energía solar obtenida el consumo global energético?\n",
    "\n",
    "**Solución**:\n",
    "\n",
    "Sabemos que:\n",
    "\n",
    "$$\n",
    "\\text{Luminosidad} = \\frac{\\text{Energía}}{\\text{Tiempo}}\n",
    "$$\n",
    "\n",
    "Como queremos saber cuánta energía se emite en un cierto tiempo, esto es simplemente:\n",
    "\n",
    "$$\n",
    "\\text{Luminosidad} \\times \\text{Tiempo}=\\text{Energía}\n",
    "$$\n",
    "\n",
    "Ya que queremos saber cuánto tiempo podemos suplir el consumo global solo con la energía solar, mediante un análisis de unidades vemos que esto se puede hacer por:\n",
    "\n",
    "$\\frac{[\\text{Energía}]}{[\\text{Luminosidad}]} = \\text{Tiempo}$\n",
    "\n",
    "De manera que el tiempo del consumo global que podremos sustentar solo con energía solar sería:\n",
    "\n",
    "$\\text{Tiempo sustantable} = \\frac{\\text{Energía obtenida del Sol}}{\\text{Consumo Global}} \n",
    "\\frac{3.282 \\times 10^{26} \\ \\text{J}}{6 \\times 10^{20} \\ \\text{W}}$\n"
   ]
  },
  {
   "cell_type": "code",
   "execution_count": 4,
   "id": "2d966b86",
   "metadata": {},
   "outputs": [
    {
     "name": "stdout",
     "output_type": "stream",
     "text": [
      "El Sol emite, aproximadamente, 3.828e+26 J cada 1.0 s\n",
      "Lo cual significa que si usaramos esa energía para suplir el consumo de energía global,\n",
      "tendríamos energía por un tiempo de 638000 s\n",
      "Esto equivale a, aproximadamente, unos 7.38 d\n"
     ]
    }
   ],
   "source": [
    "def obtain_energy(time_given, power):\n",
    "    \"\"\"\n",
    "    Returns the energy given a source emitting a fixed power and in a given time range\n",
    "    \"\"\"\n",
    "    return power.to('J/s') * time_given\n",
    "\n",
    "\n",
    "def estimate_time(energy, power):\n",
    "    \"\"\"\n",
    "    Estimates how many time a certain power can be supplied given a certain energy\n",
    "    \"\"\"\n",
    "    return energy/power.to('J/s')\n",
    "\n",
    "\n",
    "### Add input values   \n",
    "    \n",
    "time_range = 1 * u.s #time we want to estimate how many energy was emitted by the Sun in this range\n",
    "global_consumption_power = 6e20 * u.W\n",
    "energy_estimated = obtain_energy(time_range, const.L_sun)\n",
    "total_estimated_time = estimate_time(energy_estimated, global_consumption_power)\n",
    "\n",
    "\n",
    "### Results\n",
    "print(f\"El Sol emite, aproximadamente, {energy_estimated:.3e} cada {time_range}\")\n",
    "print(\"Lo cual significa que si usaramos esa energía para suplir el consumo de energía global,\")\n",
    "print(f\"tendríamos energía por un tiempo de {total_estimated_time:.0f}\")\n",
    "print(f\"Esto equivale a, aproximadamente, unos {total_estimated_time.to(u.day):.2f}\")\n",
    "\n"
   ]
  },
  {
   "cell_type": "code",
   "execution_count": null,
   "id": "c2c664d8",
   "metadata": {},
   "outputs": [],
   "source": []
  }
 ],
 "metadata": {
  "kernelspec": {
   "display_name": "Python 3 (ipykernel)",
   "language": "python",
   "name": "python3"
  },
  "language_info": {
   "codemirror_mode": {
    "name": "ipython",
    "version": 3
   },
   "file_extension": ".py",
   "mimetype": "text/x-python",
   "name": "python",
   "nbconvert_exporter": "python",
   "pygments_lexer": "ipython3",
   "version": "3.10.4"
  }
 },
 "nbformat": 4,
 "nbformat_minor": 5
}
