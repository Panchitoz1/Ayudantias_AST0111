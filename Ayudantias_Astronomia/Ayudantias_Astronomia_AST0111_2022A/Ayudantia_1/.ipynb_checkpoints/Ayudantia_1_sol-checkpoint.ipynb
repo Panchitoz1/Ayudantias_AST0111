{
 "cells": [
  {
   "cell_type": "markdown",
   "id": "88ca75ed",
   "metadata": {},
   "source": [
    "# Ayudantía 1\n",
    "\n",
    "Francisco Carrasco Varela - ffcarrasco@uc.cl\n",
    "\n",
    ">Soluciones a los problemas numéricos de la Ayudantía 1 del 18/03/2022 para el curso AST0111 (OFG) de la Pontificia Universidad Católica de Chile"
   ]
  },
  {
   "cell_type": "markdown",
   "id": "4c22e703",
   "metadata": {},
   "source": [
    "## Problema 1 - Distancias\n",
    "\n",
    "b) Si pudiésemos viajar a la velocidad de la luz, ¿cuánto demoraríamos en llegar a esta estrella (el Sol)?\n",
    "\n",
    "**Solución**:\n",
    "\n",
    "La velocidad de la luz es aproximadamente 300 mil km/s y el Sol se encuentra, en promedio, a una distancia de 1 Unidad Astronómica (1 UA).\n",
    "\n",
    "Recordando que:\n",
    "\n",
    "$\\text{velocidad} = \\frac{\\text{distancia}}{\\text{tiempo}}$\n",
    "\n",
    "Entonces, despejando $\\text{tiempo}$:\n",
    "\n",
    "$\\text{tiempo} = \\frac{\\text{distancia}}{\\text{velocidad}}$\n",
    "\n",
    "De manera que si queremos hallar cuánto tiempo tarda la luz en viajar esa distancia simplemente hacemos:"
   ]
  },
  {
   "cell_type": "code",
   "execution_count": 1,
   "id": "7165392d",
   "metadata": {},
   "outputs": [
    {
     "name": "stdout",
     "output_type": "stream",
     "text": [
      "La luz que sale de la superficie del Sol demora 499.00 s en llegar hasta la Tierra\n",
      "Lo que equivale a 8.32 min\n"
     ]
    }
   ],
   "source": [
    "from astropy import units as u\n",
    "from astropy import constants as const\n",
    "\n",
    "light_time_from_Sun =  const.au.to(u.km) / const.c.to(u.km / u.s)\n",
    "\n",
    "print(f\"La luz que sale de la superficie del Sol demora {light_time_from_Sun:.2f} en llegar hasta la Tierra\")\n",
    "print(f\"Lo que equivale a {light_time_from_Sun.to(u.minute):.2f}\")"
   ]
  },
  {
   "cell_type": "markdown",
   "id": "d66a40d7",
   "metadata": {},
   "source": [
    "## Problema 2 - Gravedad\n",
    "\n",
    "b) Entre las estrellas que componen la constelación de Orión se encuentra Rigel, la cual está a 860 años luz. Compare\n",
    "la fuerza de gravedad entre Rigel y usted con la fuerza de gravedad entre usted y su celular (que asumamos está\n",
    "a unos 10 centímetros de distancia de usted, el cual pesa unos 200 gramos), ¿cuál es más notoria?\n",
    "\n",
    "**Solución**:\n",
    "\n",
    "Para este ejercicio simplemente necesitamos conocer que la fuerza de gravedad entre 2 objetos está dada por:\n",
    "\n",
    "$F_g = G \\frac{m \\cdot M}{d^2}$\n",
    "\n",
    "donde $G$ es la constante de gravitación universal, con $G = 6.67 \\times 10^{-11} \\ \\frac{\\text{m}^3}{\\text{kg} \\cdot \\text{s}^2}$; $m$ la masa del cuerpo 1 y $M$ la masa del cuerpo 2. Usualmente se denota a $m$ minúscula como el cuerpo menos masivo y $M$ mayúscula como el cuerpo más masivo. $d$ es la distancia que hay entre los 2 cuerpos.\n",
    "\n",
    "Calculando y utilizando la fórmula de la fuerza de gravedad se tiene entonces que:"
   ]
  },
  {
   "cell_type": "code",
   "execution_count": 2,
   "id": "8a18d113",
   "metadata": {},
   "outputs": [
    {
     "name": "stdout",
     "output_type": "stream",
     "text": [
      "La fuerza entre su celular y usted es de aproximadamente 4.67E-09 kg m / s2\n",
      "Y la fuerza entre usted y la estrella Rigel es aproximadamente 2.53E-15 kg m / s2\n",
      "De manera que su celular realiza una fuerza 1.8E+06 veces mayor que la estrella Rigel\n"
     ]
    }
   ],
   "source": [
    "def gravity_force(m, M, d):\n",
    "    return const.G * m.to(u.kilogram) * M.to(u.kilogram) / (d.to(u.meter)**2)\n",
    "\n",
    "### Definimos las variables a utilizar en este ejercicio\n",
    "#Para el celular\n",
    "phone_mass = 10 * u.gram\n",
    "distance_to_phone = 10 * u.centimeter\n",
    "\n",
    "#Para la estrella Rigel\n",
    "rigel_mass = 18 * const.M_sun\n",
    "distance_to_Rigel = 860 * u.lightyear\n",
    "\n",
    "# Para nosotros, supongamos que tenemos una masa de 70 kg\n",
    "my_mass = 70 * u.kilogram\n",
    "\n",
    "#Calculamos las fuerzas de gravedad para ambos casos\n",
    "force_me_phone = gravity_force(phone_mass, my_mass, distance_to_phone)\n",
    "force_me_rigel = gravity_force(my_mass, rigel_mass, distance_to_Rigel)\n",
    "\n",
    "#Resultados\n",
    "print(f\"La fuerza entre su celular y usted es de aproximadamente {force_me_phone:.2E}\")\n",
    "print(f\"Y la fuerza entre usted y la estrella Rigel es aproximadamente {force_me_rigel:.2E}\")\n",
    "print(f\"De manera que su celular realiza una fuerza {(force_me_phone/force_me_rigel):.1E} veces mayor que la estrella Rigel\")"
   ]
  },
  {
   "cell_type": "markdown",
   "id": "601d8a77",
   "metadata": {},
   "source": [
    "c) El Sol es muchísimas veces más masivo que la Luna, donde la masa del Sol es de unos $2 \\times 10^{30} \\ \\text{kg}$ y la masa de la Luna de unos $7 \\times 10^{22} \\ \\text{kg}$. Pero el Sol se encuentra a unos 150 millones de kilómetros y la Luna a unos $\\sim \\ 400 \\ \\text{mil km}$. ¿Qué puede decir de sus fuerzas de gravedad con respecto a la Tierra?\n",
    "\n",
    "**Solución**:\n",
    "\n",
    "Aplicamos la misma ecuación anterior (Fuerza de Gravedad), pero ahora queremos calcular la fuerza entre Tierra-Sol y Tierra-Luna; de manera que:"
   ]
  },
  {
   "cell_type": "code",
   "execution_count": 3,
   "id": "2d42f2d3",
   "metadata": {},
   "outputs": [
    {
     "name": "stdout",
     "output_type": "stream",
     "text": [
      "La fuerza de gravedad entre la Tierra y el Sol es de 3.54E+22 kg m / s2\n",
      "La fuerza de gravedad entre la Tierra y la Luna es de 1.98E+20 kg m / s2\n",
      "La fuerza de gravedad entre la Tierra y el Sol es 178.6 veces mayor que entre la Tierra y la Luna.\n"
     ]
    }
   ],
   "source": [
    "###Definimos las variables a utilizar en este ejercicio\n",
    "\n",
    "mass_moon = 7.349e22 * u.kilogram\n",
    "distance_earth_moon = 384403 * u.kilometer\n",
    "\n",
    "#Calculamos las fuerzas\n",
    "force_earth_sun = gravity_force(const.M_earth, const.M_sun, const.au)\n",
    "force_earth_moon = gravity_force(mass_moon, const.M_earth, distance_earth_moon)\n",
    "\n",
    "#Vemos los resultados\n",
    "print(f\"La fuerza de gravedad entre la Tierra y el Sol es de {force_earth_sun:.2E}\")\n",
    "print(f\"La fuerza de gravedad entre la Tierra y la Luna es de {force_earth_moon:.2E}\")\n",
    "print(f\"La fuerza de gravedad entre la Tierra y el Sol es {(force_earth_sun/force_earth_moon):.1f} veces mayor que\", end=' ')\n",
    "print(\"entre la Tierra y la Luna.\")"
   ]
  },
  {
   "cell_type": "code",
   "execution_count": null,
   "id": "583e9eb7",
   "metadata": {},
   "outputs": [],
   "source": []
  }
 ],
 "metadata": {
  "kernelspec": {
   "display_name": "Python 3 (ipykernel)",
   "language": "python",
   "name": "python3"
  },
  "language_info": {
   "codemirror_mode": {
    "name": "ipython",
    "version": 3
   },
   "file_extension": ".py",
   "mimetype": "text/x-python",
   "name": "python",
   "nbconvert_exporter": "python",
   "pygments_lexer": "ipython3",
   "version": "3.8.10"
  }
 },
 "nbformat": 4,
 "nbformat_minor": 5
}
