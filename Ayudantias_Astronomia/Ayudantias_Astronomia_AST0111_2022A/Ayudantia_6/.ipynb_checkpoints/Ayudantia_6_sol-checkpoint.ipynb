{
 "cells": [
  {
   "cell_type": "markdown",
   "id": "fcc75b40",
   "metadata": {},
   "source": [
    "# Ayudantía 6\n",
    "\n",
    "Francisco Carrasco Varela - ffcarrasco@uc.cl\n",
    "\n",
    ">Soluciones a los problemas numéricos de la Ayudantía 6 del 06/05/2022 para el curso AST0111 (OFG) de la Pontificia Universidad Católica de Chile"
   ]
  },
  {
   "cell_type": "code",
   "execution_count": 1,
   "id": "b21d5baf",
   "metadata": {},
   "outputs": [
    {
     "data": {
      "application/javascript": [
       "MathJax.Hub.Config({\n",
       "    TeX: { equationNumbers: { autoNumber: \"AMS\" } }\n",
       "});\n"
      ],
      "text/plain": [
       "<IPython.core.display.Javascript object>"
      ]
     },
     "metadata": {},
     "output_type": "display_data"
    }
   ],
   "source": [
    "%%javascript\n",
    "MathJax.Hub.Config({\n",
    "    TeX: { equationNumbers: { autoNumber: \"AMS\" } }\n",
    "});"
   ]
  },
  {
   "cell_type": "markdown",
   "id": "2b13b8f9",
   "metadata": {},
   "source": [
    "## Problema 1\n",
    "\n",
    "### e) \n",
    "#### i) \n",
    "Si una estrella tiene una magnitud aparente de +6 y sabemos que se encuentra a una distancia de $8 \\ \\text{pc}$, ¿cuál es su magnitud absoluta?\n",
    "\n",
    "**Solución**:\n",
    "\n",
    "Para \n",
    "\n",
    "\\begin{equation}\n",
    "1 = 1\n",
    "\\end{equation}"
   ]
  },
  {
   "cell_type": "code",
   "execution_count": null,
   "id": "f5319670",
   "metadata": {},
   "outputs": [],
   "source": []
  }
 ],
 "metadata": {
  "kernelspec": {
   "display_name": "Python 3 (ipykernel)",
   "language": "python",
   "name": "python3"
  },
  "language_info": {
   "codemirror_mode": {
    "name": "ipython",
    "version": 3
   },
   "file_extension": ".py",
   "mimetype": "text/x-python",
   "name": "python",
   "nbconvert_exporter": "python",
   "pygments_lexer": "ipython3",
   "version": "3.10.4"
  }
 },
 "nbformat": 4,
 "nbformat_minor": 5
}
