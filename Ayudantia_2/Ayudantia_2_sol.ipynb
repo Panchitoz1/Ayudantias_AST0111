{
 "cells": [
  {
   "cell_type": "markdown",
   "id": "0e3ac645",
   "metadata": {},
   "source": [
    "# Ayudantía 2\n",
    "\n",
    "Francisco Carrasco Varela - ffcarrasco@uc.cl\n",
    "\n",
    ">Soluciones a los problemas numéricos de la Ayudantía 2 del 25/03/2022 para el curso AST0111 (OFG) de la Pontificia Universidad Católica de Chile\n"
   ]
  },
  {
   "cell_type": "markdown",
   "id": "6c294263",
   "metadata": {},
   "source": [
    "## Problema 1 - Escalas\n",
    "\n",
    "a) ¿A qué distancia se encuentra la estrella más cercana de nosotros en metros? ¿y la segunda estrella más cercana\n",
    "(en metros también)?\n",
    "\n",
    "**Solución**:\n",
    "\n",
    "La estrella más cercana es el Sol, el cual se encuentra a 1 unidad astronómica (1 UA) de distancia *promedio*.\n",
    "De manera que la estrella más cercana a nosotros, el Sol, se encuentra a una distancia de:"
   ]
  },
  {
   "cell_type": "code",
   "execution_count": 1,
   "id": "902b2a8b",
   "metadata": {},
   "outputs": [
    {
     "name": "stdout",
     "output_type": "stream",
     "text": [
      "El Sol está a una distancia de 1.0 AU que es equivalente a 1.50E+11 m o 1.50E+08 km\n"
     ]
    }
   ],
   "source": [
    "from astropy import units as u\n",
    "import numpy as np\n",
    "\n",
    "distance_Sun_Earth = 1 * u.au\n",
    "print(f\"El Sol está a una distancia de {distance_Sun_Earth.value} {distance_Sun_Earth.unit} que es equivalente a \\\n",
    "{distance_Sun_Earth.to(u.meter).value:.2E} {distance_Sun_Earth.to(u.meter).unit} o \\\n",
    "{distance_Sun_Earth.to(u.km).value:.2E} {distance_Sun_Earth.to(u.km).unit}\")\n",
    "\n"
   ]
  },
  {
   "cell_type": "markdown",
   "id": "499f3cb0",
   "metadata": {},
   "source": [
    "Para Próxima Centauri, la segunda estrella más cercana, tenemos que se encuentra a una distancia de $4.246 \\ \\text{ly}$.\n",
    "De manera que Próxima Centauri se encuentra a una distancia de:"
   ]
  },
  {
   "cell_type": "code",
   "execution_count": 2,
   "id": "112f0eef",
   "metadata": {},
   "outputs": [
    {
     "name": "stdout",
     "output_type": "stream",
     "text": [
      "Proxima Centauri está a una distancia de 4.246 lyr que es equivalente a 4.02E+16 m o 4.02E+13 km\n"
     ]
    }
   ],
   "source": [
    "distance_Prox_Earth = 4.246 * u.lightyear\n",
    "print(f\"Proxima Centauri está a una distancia de {distance_Prox_Earth.value} {distance_Prox_Earth.unit} que es equivalente a \\\n",
    "{distance_Prox_Earth.to(u.meter).value:.2E} {distance_Prox_Earth.to(u.meter).unit} o \\\n",
    "{distance_Prox_Earth.to(u.km).value:.2E} {distance_Prox_Earth.to(u.km).unit}\")"
   ]
  },
  {
   "cell_type": "markdown",
   "id": "8c6713dd",
   "metadata": {},
   "source": [
    "b) Si el Sol fuese una pelota de radio de 1 centímetro, ¿qué tan cerca estaría la otra estrella del ejercicio anterior?\n",
    "\n",
    "**Solución**:\n",
    "\n",
    "Para esto simplemente aplicamos una regla de 3:\n",
    "\n",
    "Radio del Sol --------------------------> Radio 1 centímetro\n",
    "\n",
    "Distancia Proxima Centauri -------> X\n",
    "\n",
    "Despejando X tendremos:\n",
    "\n",
    "$X = \\frac{\\text{Radio 1 centímetro} \\ \\times \\ \\text{Distancia Proxima Centauri}}{\\text{Radio del Sol}}$\n",
    "\n",
    "Calculando esto tenemos simplemente que:"
   ]
  },
  {
   "cell_type": "code",
   "execution_count": 3,
   "id": "c0d2b1bb",
   "metadata": {},
   "outputs": [
    {
     "name": "stdout",
     "output_type": "stream",
     "text": [
      "Si el Sol fuera una pelota de 1 centímetro de radio, como una canica,\n",
      "la estrella más cercana se encuentra a 577408 m ; o equivalentemente, a 577.4 km\n"
     ]
    }
   ],
   "source": [
    "from astropy import constants as const\n",
    "R_cm = 1 * u.centimeter\n",
    "\n",
    "X = (R_cm.to(u.m) * distance_Prox_Earth.to(u.m))/(const.R_sun.to(u.m))\n",
    "print(\"Si el Sol fuera una pelota de 1 centímetro de radio, como una canica,\")\n",
    "print(f\"la estrella más cercana se encuentra a {X.value:.0f} {X.unit}\", end =' ')\n",
    "print(f\"; o equivalentemente, a {X.to(u.km).value:.1f} {X.to(u.km).unit}\")"
   ]
  },
  {
   "cell_type": "markdown",
   "id": "b550d582",
   "metadata": {},
   "source": [
    "## Problema 2 - Velocidad de Escape\n",
    "\n",
    "c) ¿Cuánto sería la velocidad de escape aquí en la Tierra? ¿Y en Marte? ¿Y en Júpiter?\n",
    "\n",
    "**Solución**:\n",
    "\n",
    "Para la Tierra la velocidad de escape simplemente sería:"
   ]
  },
  {
   "cell_type": "code",
   "execution_count": 4,
   "id": "22239f34",
   "metadata": {},
   "outputs": [
    {
     "name": "stdout",
     "output_type": "stream",
     "text": [
      "La velocidad de escape de la Tierra será de: 11180 m / s \n",
      "O equivalentemente a: 11.18 km / s \n",
      "Que es igual a 40247.67 km / h\n"
     ]
    }
   ],
   "source": [
    "def escape_velocity(mass, distance):\n",
    "    return np.sqrt(2 * const.G * mass.to(u.kilogram) / distance.to(u.meter))\n",
    "\n",
    "# Para la Tierra tendremos que la velocidad de escape sera:\n",
    "escape_vel_Earth = escape_velocity(const.M_earth, const.R_earth)\n",
    "print(f\"La velocidad de escape de la Tierra será de: {escape_vel_Earth:.0f} \")\n",
    "print(f\"O equivalentemente a: {escape_vel_Earth.to(u.km/u.s):.2f} \")\n",
    "print(f\"Que es igual a {escape_vel_Earth.to(u.km/u.hour):.2f}\")"
   ]
  },
  {
   "cell_type": "markdown",
   "id": "29fbeae4",
   "metadata": {},
   "source": [
    "De igual manera se tiene que para Júpiter será de:"
   ]
  },
  {
   "cell_type": "code",
   "execution_count": 5,
   "id": "a35f9403",
   "metadata": {},
   "outputs": [
    {
     "name": "stdout",
     "output_type": "stream",
     "text": [
      "La velocidad de escape de Júpiter será de: 59532 m / s \n",
      "O equivalentemente a: 59.53 km / s \n",
      "Que es igual a 214315.70 km / h\n"
     ]
    }
   ],
   "source": [
    "escape_vel_Jup = escape_velocity(const.M_jup, const.R_jup)\n",
    "print(f\"La velocidad de escape de Júpiter será de: {escape_vel_Jup:.0f} \")\n",
    "print(f\"O equivalentemente a: {escape_vel_Jup.to(u.km/u.s):.2f} \")\n",
    "print(f\"Que es igual a {escape_vel_Jup.to(u.km/u.hour):.2f}\")"
   ]
  },
  {
   "cell_type": "markdown",
   "id": "ac727d68",
   "metadata": {},
   "source": [
    "Finalmente, si comparamos la velocidad de escape de Júpiter con la velocidad de escape de la Tierra tenemos que:"
   ]
  },
  {
   "cell_type": "code",
   "execution_count": 6,
   "id": "86850323",
   "metadata": {},
   "outputs": [
    {
     "name": "stdout",
     "output_type": "stream",
     "text": [
      "La velocidad de escape de Júpiter es 5.3 veces mayor que la de la Tierra\n"
     ]
    }
   ],
   "source": [
    "print(f\"La velocidad de escape de Júpiter es {(escape_vel_Jup/escape_vel_Earth):.1f} veces mayor que la de la Tierra\")"
   ]
  },
  {
   "cell_type": "code",
   "execution_count": null,
   "id": "52d96507",
   "metadata": {},
   "outputs": [],
   "source": []
  }
 ],
 "metadata": {
  "kernelspec": {
   "display_name": "Python 3 (ipykernel)",
   "language": "python",
   "name": "python3"
  },
  "language_info": {
   "codemirror_mode": {
    "name": "ipython",
    "version": 3
   },
   "file_extension": ".py",
   "mimetype": "text/x-python",
   "name": "python",
   "nbconvert_exporter": "python",
   "pygments_lexer": "ipython3",
   "version": "3.8.10"
  }
 },
 "nbformat": 4,
 "nbformat_minor": 5
}
